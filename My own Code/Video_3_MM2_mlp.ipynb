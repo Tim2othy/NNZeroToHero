{
 "cells": [
  {
   "cell_type": "code",
   "execution_count": 224,
   "metadata": {},
   "outputs": [],
   "source": [
    "import torch\n",
    "import torch.nn.functional as F\n",
    "import matplotlib.pyplot as plt\n",
    "%matplotlib inline\n"
   ]
  },
  {
   "cell_type": "code",
   "execution_count": 225,
   "metadata": {},
   "outputs": [
    {
     "data": {
      "text/plain": [
       "['emma', 'olivia', 'ava', 'isabella', 'sophia', 'charlotte', 'mia', 'amelia']"
      ]
     },
     "execution_count": 225,
     "metadata": {},
     "output_type": "execute_result"
    }
   ],
   "source": [
    "# read in all the words\n",
    "words = open('names.txt', 'r').read().splitlines()\n",
    "words[:8]"
   ]
  },
  {
   "cell_type": "code",
   "execution_count": 226,
   "metadata": {},
   "outputs": [
    {
     "data": {
      "text/plain": [
       "32033"
      ]
     },
     "execution_count": 226,
     "metadata": {},
     "output_type": "execute_result"
    }
   ],
   "source": [
    "len(words)"
   ]
  },
  {
   "cell_type": "code",
   "execution_count": 227,
   "metadata": {},
   "outputs": [
    {
     "name": "stdout",
     "output_type": "stream",
     "text": [
      "{1: 'a', 2: 'b', 3: 'c', 4: 'd', 5: 'e', 6: 'f', 7: 'g', 8: 'h', 9: 'i', 10: 'j', 11: 'k', 12: 'l', 13: 'm', 14: 'n', 15: 'o', 16: 'p', 17: 'q', 18: 'r', 19: 's', 20: 't', 21: 'u', 22: 'v', 23: 'w', 24: 'x', 25: 'y', 26: 'z', 0: '.'}\n"
     ]
    }
   ],
   "source": [
    "# build the vocabulary of characters and mappings to/from integers\n",
    "chars = sorted(list(set(''.join(words))))\n",
    "stoi = {s:i+1 for i,s in enumerate(chars)}\n",
    "stoi['.'] = 0\n",
    "itos = {i:s for s,i in stoi.items()}\n",
    "print(itos)"
   ]
  },
  {
   "cell_type": "markdown",
   "metadata": {},
   "source": [
    "So we are making the dataset now\n",
    "\n",
    "Always taking a word and padding it with dots. And then predicting the next token."
   ]
  },
  {
   "cell_type": "code",
   "execution_count": 228,
   "metadata": {},
   "outputs": [
    {
     "name": "stdout",
     "output_type": "stream",
     "text": [
      "... ---> e\n",
      "..e ---> m\n",
      ".em ---> m\n",
      "emm ---> a\n",
      "mma ---> .\n",
      "... ---> o\n",
      "..o ---> l\n",
      ".ol ---> i\n",
      "oli ---> v\n",
      "liv ---> i\n",
      "ivi ---> a\n",
      "via ---> .\n",
      "... ---> a\n",
      "..a ---> v\n",
      ".av ---> a\n",
      "ava ---> .\n",
      "... ---> i\n",
      "..i ---> s\n",
      ".is ---> a\n",
      "isa ---> b\n",
      "sab ---> e\n",
      "abe ---> l\n",
      "bel ---> l\n",
      "ell ---> a\n",
      "lla ---> .\n",
      "... ---> s\n",
      "..s ---> o\n",
      ".so ---> p\n",
      "sop ---> h\n",
      "oph ---> i\n",
      "phi ---> a\n",
      "hia ---> .\n"
     ]
    }
   ],
   "source": [
    "# build the dataset\n",
    "\n",
    "block_size = 3 # context length: how many characters do we take to predict the next one?\n",
    "X, Y = [], []\n",
    "for w in words[:5]:\n",
    "\n",
    "  #print(w)\n",
    "  context = [0] * block_size\n",
    "  for ch in w + '.':\n",
    "    ix = stoi[ch]\n",
    "    X.append(context)\n",
    "    Y.append(ix)\n",
    "    print(''.join(itos[i] for i in context), '--->', itos[ix])\n",
    "    context = context[1:] + [ix] # crop and append\n",
    "\n",
    "X = torch.tensor(X)\n",
    "Y = torch.tensor(Y)"
   ]
  },
  {
   "cell_type": "code",
   "execution_count": 229,
   "metadata": {},
   "outputs": [
    {
     "data": {
      "text/plain": [
       "(torch.Size([32, 3]), torch.int64, torch.Size([32]), torch.int64)"
      ]
     },
     "execution_count": 229,
     "metadata": {},
     "output_type": "execute_result"
    }
   ],
   "source": [
    "X.shape, X.dtype, Y.shape, Y.dtype"
   ]
  },
  {
   "cell_type": "code",
   "execution_count": 230,
   "metadata": {},
   "outputs": [
    {
     "data": {
      "text/plain": [
       "tensor([ 5, 13, 13,  1,  0, 15, 12,  9, 22,  9,  1,  0,  1, 22,  1,  0,  9, 19,\n",
       "         1,  2,  5, 12, 12,  1,  0, 19, 15, 16,  8,  9,  1,  0])"
      ]
     },
     "execution_count": 230,
     "metadata": {},
     "output_type": "execute_result"
    }
   ],
   "source": [
    "Y"
   ]
  },
  {
   "cell_type": "markdown",
   "metadata": {},
   "source": [
    "In the paper they cram 17.000 words or so into only 30 dimensional space.\n",
    "\n",
    "We only have 27 charachters, so let's cram them into a 2 d space."
   ]
  },
  {
   "cell_type": "code",
   "execution_count": 231,
   "metadata": {},
   "outputs": [],
   "source": [
    "C = torch.randn((27, 2))"
   ]
  },
  {
   "cell_type": "code",
   "execution_count": 232,
   "metadata": {},
   "outputs": [
    {
     "data": {
      "text/plain": [
       "tensor([[-0.8354,  0.9031],\n",
       "        [-1.2356,  0.1891],\n",
       "        [-0.6765,  1.5545],\n",
       "        [ 1.1454, -2.2686],\n",
       "        [-1.9261, -1.1567],\n",
       "        [-0.3916,  0.4943],\n",
       "        [ 0.0401, -0.7610],\n",
       "        [ 0.5231, -0.5392],\n",
       "        [-1.6792,  1.0800],\n",
       "        [ 0.2936, -1.5681],\n",
       "        [-1.5461, -0.2493],\n",
       "        [-0.0220, -0.1858],\n",
       "        [-1.1093,  0.8735],\n",
       "        [ 1.1753, -0.1000],\n",
       "        [ 0.3326,  1.2803],\n",
       "        [ 0.6752,  0.7126],\n",
       "        [ 0.4712, -1.2940],\n",
       "        [ 0.0471, -0.1651],\n",
       "        [-1.6524, -0.2571],\n",
       "        [-0.0717, -0.8356],\n",
       "        [-1.0112,  0.6868],\n",
       "        [ 0.4297, -0.5105],\n",
       "        [ 0.4904,  1.0272],\n",
       "        [ 0.7424,  0.4719],\n",
       "        [ 0.4074,  0.2533],\n",
       "        [-0.7838,  0.2627],\n",
       "        [ 0.5227,  0.0750]])"
      ]
     },
     "execution_count": 232,
     "metadata": {},
     "output_type": "execute_result"
    }
   ],
   "source": [
    "C"
   ]
  },
  {
   "cell_type": "markdown",
   "metadata": {},
   "source": [
    "We could just set 5 to be `C[5]`"
   ]
  },
  {
   "cell_type": "code",
   "execution_count": 233,
   "metadata": {},
   "outputs": [
    {
     "data": {
      "text/plain": [
       "tensor([-0.3916,  0.4943])"
      ]
     },
     "execution_count": 233,
     "metadata": {},
     "output_type": "execute_result"
    }
   ],
   "source": [
    "C[5]"
   ]
  },
  {
   "cell_type": "code",
   "execution_count": 234,
   "metadata": {},
   "outputs": [
    {
     "data": {
      "text/plain": [
       "tensor([-0.3916,  0.4943])"
      ]
     },
     "execution_count": 234,
     "metadata": {},
     "output_type": "execute_result"
    }
   ],
   "source": [
    "F.one_hot(torch.tensor(5), num_classes=27).float() @ C"
   ]
  },
  {
   "cell_type": "markdown",
   "metadata": {},
   "source": [
    "If we do this it's exactly identical to what we did before. Because of how matrix mult. works."
   ]
  },
  {
   "cell_type": "markdown",
   "metadata": {},
   "source": [
    "We could think of this as the first layer of the NN"
   ]
  },
  {
   "cell_type": "markdown",
   "metadata": {},
   "source": [
    "But we are actually going to use the normal way, not the one hot, that just is not needed here."
   ]
  },
  {
   "cell_type": "code",
   "execution_count": 235,
   "metadata": {},
   "outputs": [
    {
     "data": {
      "text/plain": [
       "tensor([[[-0.8354,  0.9031],\n",
       "         [-0.8354,  0.9031],\n",
       "         [-0.8354,  0.9031]],\n",
       "\n",
       "        [[-0.8354,  0.9031],\n",
       "         [-0.8354,  0.9031],\n",
       "         [-0.3916,  0.4943]],\n",
       "\n",
       "        [[-0.8354,  0.9031],\n",
       "         [-0.3916,  0.4943],\n",
       "         [ 1.1753, -0.1000]],\n",
       "\n",
       "        [[-0.3916,  0.4943],\n",
       "         [ 1.1753, -0.1000],\n",
       "         [ 1.1753, -0.1000]],\n",
       "\n",
       "        [[ 1.1753, -0.1000],\n",
       "         [ 1.1753, -0.1000],\n",
       "         [-1.2356,  0.1891]],\n",
       "\n",
       "        [[-0.8354,  0.9031],\n",
       "         [-0.8354,  0.9031],\n",
       "         [-0.8354,  0.9031]],\n",
       "\n",
       "        [[-0.8354,  0.9031],\n",
       "         [-0.8354,  0.9031],\n",
       "         [ 0.6752,  0.7126]],\n",
       "\n",
       "        [[-0.8354,  0.9031],\n",
       "         [ 0.6752,  0.7126],\n",
       "         [-1.1093,  0.8735]],\n",
       "\n",
       "        [[ 0.6752,  0.7126],\n",
       "         [-1.1093,  0.8735],\n",
       "         [ 0.2936, -1.5681]],\n",
       "\n",
       "        [[-1.1093,  0.8735],\n",
       "         [ 0.2936, -1.5681],\n",
       "         [ 0.4904,  1.0272]],\n",
       "\n",
       "        [[ 0.2936, -1.5681],\n",
       "         [ 0.4904,  1.0272],\n",
       "         [ 0.2936, -1.5681]],\n",
       "\n",
       "        [[ 0.4904,  1.0272],\n",
       "         [ 0.2936, -1.5681],\n",
       "         [-1.2356,  0.1891]],\n",
       "\n",
       "        [[-0.8354,  0.9031],\n",
       "         [-0.8354,  0.9031],\n",
       "         [-0.8354,  0.9031]],\n",
       "\n",
       "        [[-0.8354,  0.9031],\n",
       "         [-0.8354,  0.9031],\n",
       "         [-1.2356,  0.1891]],\n",
       "\n",
       "        [[-0.8354,  0.9031],\n",
       "         [-1.2356,  0.1891],\n",
       "         [ 0.4904,  1.0272]],\n",
       "\n",
       "        [[-1.2356,  0.1891],\n",
       "         [ 0.4904,  1.0272],\n",
       "         [-1.2356,  0.1891]],\n",
       "\n",
       "        [[-0.8354,  0.9031],\n",
       "         [-0.8354,  0.9031],\n",
       "         [-0.8354,  0.9031]],\n",
       "\n",
       "        [[-0.8354,  0.9031],\n",
       "         [-0.8354,  0.9031],\n",
       "         [ 0.2936, -1.5681]],\n",
       "\n",
       "        [[-0.8354,  0.9031],\n",
       "         [ 0.2936, -1.5681],\n",
       "         [-0.0717, -0.8356]],\n",
       "\n",
       "        [[ 0.2936, -1.5681],\n",
       "         [-0.0717, -0.8356],\n",
       "         [-1.2356,  0.1891]],\n",
       "\n",
       "        [[-0.0717, -0.8356],\n",
       "         [-1.2356,  0.1891],\n",
       "         [-0.6765,  1.5545]],\n",
       "\n",
       "        [[-1.2356,  0.1891],\n",
       "         [-0.6765,  1.5545],\n",
       "         [-0.3916,  0.4943]],\n",
       "\n",
       "        [[-0.6765,  1.5545],\n",
       "         [-0.3916,  0.4943],\n",
       "         [-1.1093,  0.8735]],\n",
       "\n",
       "        [[-0.3916,  0.4943],\n",
       "         [-1.1093,  0.8735],\n",
       "         [-1.1093,  0.8735]],\n",
       "\n",
       "        [[-1.1093,  0.8735],\n",
       "         [-1.1093,  0.8735],\n",
       "         [-1.2356,  0.1891]],\n",
       "\n",
       "        [[-0.8354,  0.9031],\n",
       "         [-0.8354,  0.9031],\n",
       "         [-0.8354,  0.9031]],\n",
       "\n",
       "        [[-0.8354,  0.9031],\n",
       "         [-0.8354,  0.9031],\n",
       "         [-0.0717, -0.8356]],\n",
       "\n",
       "        [[-0.8354,  0.9031],\n",
       "         [-0.0717, -0.8356],\n",
       "         [ 0.6752,  0.7126]],\n",
       "\n",
       "        [[-0.0717, -0.8356],\n",
       "         [ 0.6752,  0.7126],\n",
       "         [ 0.4712, -1.2940]],\n",
       "\n",
       "        [[ 0.6752,  0.7126],\n",
       "         [ 0.4712, -1.2940],\n",
       "         [-1.6792,  1.0800]],\n",
       "\n",
       "        [[ 0.4712, -1.2940],\n",
       "         [-1.6792,  1.0800],\n",
       "         [ 0.2936, -1.5681]],\n",
       "\n",
       "        [[-1.6792,  1.0800],\n",
       "         [ 0.2936, -1.5681],\n",
       "         [-1.2356,  0.1891]]])"
      ]
     },
     "execution_count": 235,
     "metadata": {},
     "output_type": "execute_result"
    }
   ],
   "source": [
    "C[X]"
   ]
  },
  {
   "cell_type": "code",
   "execution_count": 236,
   "metadata": {},
   "outputs": [
    {
     "data": {
      "text/plain": [
       "torch.Size([32, 3, 2])"
      ]
     },
     "execution_count": 236,
     "metadata": {},
     "output_type": "execute_result"
    }
   ],
   "source": [
    "C[X].shape"
   ]
  },
  {
   "cell_type": "code",
   "execution_count": 237,
   "metadata": {},
   "outputs": [],
   "source": [
    "emb = C[X]"
   ]
  },
  {
   "cell_type": "code",
   "execution_count": 238,
   "metadata": {},
   "outputs": [
    {
     "data": {
      "text/plain": [
       "torch.Size([32, 3, 2])"
      ]
     },
     "execution_count": 238,
     "metadata": {},
     "output_type": "execute_result"
    }
   ],
   "source": [
    "emb.shape"
   ]
  },
  {
   "cell_type": "markdown",
   "metadata": {},
   "source": [
    "## Creating first hidden layer of NN"
   ]
  },
  {
   "cell_type": "markdown",
   "metadata": {},
   "source": [
    "because there are 3 * 2 dimensions the inputs are 6"
   ]
  },
  {
   "cell_type": "code",
   "execution_count": 239,
   "metadata": {},
   "outputs": [],
   "source": [
    "W1 = torch.randn((6,100))\n",
    "b1 = torch.randn(100)"
   ]
  },
  {
   "cell_type": "markdown",
   "metadata": {},
   "source": [
    "We can't just do `emb @ Wa + b1` or something like that because the dimensions don't check out. We have to concatenate something.\n",
    "\n",
    "32 * 3 * 2 needs to be 32 * 6"
   ]
  },
  {
   "cell_type": "code",
   "execution_count": 240,
   "metadata": {},
   "outputs": [
    {
     "data": {
      "text/plain": [
       "tensor([[-0.8354,  0.9031, -0.8354,  0.9031, -0.8354,  0.9031],\n",
       "        [-0.8354,  0.9031, -0.8354,  0.9031, -0.3916,  0.4943],\n",
       "        [-0.8354,  0.9031, -0.3916,  0.4943,  1.1753, -0.1000],\n",
       "        [-0.3916,  0.4943,  1.1753, -0.1000,  1.1753, -0.1000],\n",
       "        [ 1.1753, -0.1000,  1.1753, -0.1000, -1.2356,  0.1891],\n",
       "        [-0.8354,  0.9031, -0.8354,  0.9031, -0.8354,  0.9031],\n",
       "        [-0.8354,  0.9031, -0.8354,  0.9031,  0.6752,  0.7126],\n",
       "        [-0.8354,  0.9031,  0.6752,  0.7126, -1.1093,  0.8735],\n",
       "        [ 0.6752,  0.7126, -1.1093,  0.8735,  0.2936, -1.5681],\n",
       "        [-1.1093,  0.8735,  0.2936, -1.5681,  0.4904,  1.0272],\n",
       "        [ 0.2936, -1.5681,  0.4904,  1.0272,  0.2936, -1.5681],\n",
       "        [ 0.4904,  1.0272,  0.2936, -1.5681, -1.2356,  0.1891],\n",
       "        [-0.8354,  0.9031, -0.8354,  0.9031, -0.8354,  0.9031],\n",
       "        [-0.8354,  0.9031, -0.8354,  0.9031, -1.2356,  0.1891],\n",
       "        [-0.8354,  0.9031, -1.2356,  0.1891,  0.4904,  1.0272],\n",
       "        [-1.2356,  0.1891,  0.4904,  1.0272, -1.2356,  0.1891],\n",
       "        [-0.8354,  0.9031, -0.8354,  0.9031, -0.8354,  0.9031],\n",
       "        [-0.8354,  0.9031, -0.8354,  0.9031,  0.2936, -1.5681],\n",
       "        [-0.8354,  0.9031,  0.2936, -1.5681, -0.0717, -0.8356],\n",
       "        [ 0.2936, -1.5681, -0.0717, -0.8356, -1.2356,  0.1891],\n",
       "        [-0.0717, -0.8356, -1.2356,  0.1891, -0.6765,  1.5545],\n",
       "        [-1.2356,  0.1891, -0.6765,  1.5545, -0.3916,  0.4943],\n",
       "        [-0.6765,  1.5545, -0.3916,  0.4943, -1.1093,  0.8735],\n",
       "        [-0.3916,  0.4943, -1.1093,  0.8735, -1.1093,  0.8735],\n",
       "        [-1.1093,  0.8735, -1.1093,  0.8735, -1.2356,  0.1891],\n",
       "        [-0.8354,  0.9031, -0.8354,  0.9031, -0.8354,  0.9031],\n",
       "        [-0.8354,  0.9031, -0.8354,  0.9031, -0.0717, -0.8356],\n",
       "        [-0.8354,  0.9031, -0.0717, -0.8356,  0.6752,  0.7126],\n",
       "        [-0.0717, -0.8356,  0.6752,  0.7126,  0.4712, -1.2940],\n",
       "        [ 0.6752,  0.7126,  0.4712, -1.2940, -1.6792,  1.0800],\n",
       "        [ 0.4712, -1.2940, -1.6792,  1.0800,  0.2936, -1.5681],\n",
       "        [-1.6792,  1.0800,  0.2936, -1.5681, -1.2356,  0.1891]])"
      ]
     },
     "execution_count": 240,
     "metadata": {},
     "output_type": "execute_result"
    }
   ],
   "source": [
    "torch.cat([emb[:,0,:], emb[:,1,:], emb[:,2,:]],1)"
   ]
  },
  {
   "cell_type": "code",
   "execution_count": 241,
   "metadata": {},
   "outputs": [
    {
     "data": {
      "text/plain": [
       "(tensor([[-0.8354,  0.9031],\n",
       "         [-0.8354,  0.9031],\n",
       "         [-0.8354,  0.9031],\n",
       "         [-0.3916,  0.4943],\n",
       "         [ 1.1753, -0.1000],\n",
       "         [-0.8354,  0.9031],\n",
       "         [-0.8354,  0.9031],\n",
       "         [-0.8354,  0.9031],\n",
       "         [ 0.6752,  0.7126],\n",
       "         [-1.1093,  0.8735],\n",
       "         [ 0.2936, -1.5681],\n",
       "         [ 0.4904,  1.0272],\n",
       "         [-0.8354,  0.9031],\n",
       "         [-0.8354,  0.9031],\n",
       "         [-0.8354,  0.9031],\n",
       "         [-1.2356,  0.1891],\n",
       "         [-0.8354,  0.9031],\n",
       "         [-0.8354,  0.9031],\n",
       "         [-0.8354,  0.9031],\n",
       "         [ 0.2936, -1.5681],\n",
       "         [-0.0717, -0.8356],\n",
       "         [-1.2356,  0.1891],\n",
       "         [-0.6765,  1.5545],\n",
       "         [-0.3916,  0.4943],\n",
       "         [-1.1093,  0.8735],\n",
       "         [-0.8354,  0.9031],\n",
       "         [-0.8354,  0.9031],\n",
       "         [-0.8354,  0.9031],\n",
       "         [-0.0717, -0.8356],\n",
       "         [ 0.6752,  0.7126],\n",
       "         [ 0.4712, -1.2940],\n",
       "         [-1.6792,  1.0800]]),\n",
       " tensor([[-0.8354,  0.9031],\n",
       "         [-0.8354,  0.9031],\n",
       "         [-0.3916,  0.4943],\n",
       "         [ 1.1753, -0.1000],\n",
       "         [ 1.1753, -0.1000],\n",
       "         [-0.8354,  0.9031],\n",
       "         [-0.8354,  0.9031],\n",
       "         [ 0.6752,  0.7126],\n",
       "         [-1.1093,  0.8735],\n",
       "         [ 0.2936, -1.5681],\n",
       "         [ 0.4904,  1.0272],\n",
       "         [ 0.2936, -1.5681],\n",
       "         [-0.8354,  0.9031],\n",
       "         [-0.8354,  0.9031],\n",
       "         [-1.2356,  0.1891],\n",
       "         [ 0.4904,  1.0272],\n",
       "         [-0.8354,  0.9031],\n",
       "         [-0.8354,  0.9031],\n",
       "         [ 0.2936, -1.5681],\n",
       "         [-0.0717, -0.8356],\n",
       "         [-1.2356,  0.1891],\n",
       "         [-0.6765,  1.5545],\n",
       "         [-0.3916,  0.4943],\n",
       "         [-1.1093,  0.8735],\n",
       "         [-1.1093,  0.8735],\n",
       "         [-0.8354,  0.9031],\n",
       "         [-0.8354,  0.9031],\n",
       "         [-0.0717, -0.8356],\n",
       "         [ 0.6752,  0.7126],\n",
       "         [ 0.4712, -1.2940],\n",
       "         [-1.6792,  1.0800],\n",
       "         [ 0.2936, -1.5681]]),\n",
       " tensor([[-0.8354,  0.9031],\n",
       "         [-0.3916,  0.4943],\n",
       "         [ 1.1753, -0.1000],\n",
       "         [ 1.1753, -0.1000],\n",
       "         [-1.2356,  0.1891],\n",
       "         [-0.8354,  0.9031],\n",
       "         [ 0.6752,  0.7126],\n",
       "         [-1.1093,  0.8735],\n",
       "         [ 0.2936, -1.5681],\n",
       "         [ 0.4904,  1.0272],\n",
       "         [ 0.2936, -1.5681],\n",
       "         [-1.2356,  0.1891],\n",
       "         [-0.8354,  0.9031],\n",
       "         [-1.2356,  0.1891],\n",
       "         [ 0.4904,  1.0272],\n",
       "         [-1.2356,  0.1891],\n",
       "         [-0.8354,  0.9031],\n",
       "         [ 0.2936, -1.5681],\n",
       "         [-0.0717, -0.8356],\n",
       "         [-1.2356,  0.1891],\n",
       "         [-0.6765,  1.5545],\n",
       "         [-0.3916,  0.4943],\n",
       "         [-1.1093,  0.8735],\n",
       "         [-1.1093,  0.8735],\n",
       "         [-1.2356,  0.1891],\n",
       "         [-0.8354,  0.9031],\n",
       "         [-0.0717, -0.8356],\n",
       "         [ 0.6752,  0.7126],\n",
       "         [ 0.4712, -1.2940],\n",
       "         [-1.6792,  1.0800],\n",
       "         [ 0.2936, -1.5681],\n",
       "         [-1.2356,  0.1891]]))"
      ]
     },
     "execution_count": 241,
     "metadata": {},
     "output_type": "execute_result"
    }
   ],
   "source": [
    "torch.unbind(emb, 1)"
   ]
  },
  {
   "cell_type": "markdown",
   "metadata": {},
   "source": [
    "A better way to concatenate is"
   ]
  },
  {
   "cell_type": "code",
   "execution_count": 242,
   "metadata": {},
   "outputs": [
    {
     "data": {
      "text/plain": [
       "tensor([ 0,  1,  2,  3,  4,  5,  6,  7,  8,  9, 10, 11, 12, 13, 14, 15, 16, 17])"
      ]
     },
     "execution_count": 242,
     "metadata": {},
     "output_type": "execute_result"
    }
   ],
   "source": [
    "a = torch.arange(18)\n",
    "a"
   ]
  },
  {
   "cell_type": "code",
   "execution_count": 243,
   "metadata": {},
   "outputs": [
    {
     "data": {
      "text/plain": [
       "tensor([[ 0,  1],\n",
       "        [ 2,  3],\n",
       "        [ 4,  5],\n",
       "        [ 6,  7],\n",
       "        [ 8,  9],\n",
       "        [10, 11],\n",
       "        [12, 13],\n",
       "        [14, 15],\n",
       "        [16, 17]])"
      ]
     },
     "execution_count": 243,
     "metadata": {},
     "output_type": "execute_result"
    }
   ],
   "source": [
    "a.view(9,2)"
   ]
  },
  {
   "cell_type": "markdown",
   "metadata": {},
   "source": [
    "doing this is super efficient, so ideally we do it that way."
   ]
  },
  {
   "cell_type": "code",
   "execution_count": 244,
   "metadata": {},
   "outputs": [
    {
     "data": {
      "text/plain": [
       "tensor([[-0.8354,  0.9031, -0.8354,  0.9031, -0.8354,  0.9031],\n",
       "        [-0.8354,  0.9031, -0.8354,  0.9031, -0.3916,  0.4943],\n",
       "        [-0.8354,  0.9031, -0.3916,  0.4943,  1.1753, -0.1000],\n",
       "        [-0.3916,  0.4943,  1.1753, -0.1000,  1.1753, -0.1000],\n",
       "        [ 1.1753, -0.1000,  1.1753, -0.1000, -1.2356,  0.1891],\n",
       "        [-0.8354,  0.9031, -0.8354,  0.9031, -0.8354,  0.9031],\n",
       "        [-0.8354,  0.9031, -0.8354,  0.9031,  0.6752,  0.7126],\n",
       "        [-0.8354,  0.9031,  0.6752,  0.7126, -1.1093,  0.8735],\n",
       "        [ 0.6752,  0.7126, -1.1093,  0.8735,  0.2936, -1.5681],\n",
       "        [-1.1093,  0.8735,  0.2936, -1.5681,  0.4904,  1.0272],\n",
       "        [ 0.2936, -1.5681,  0.4904,  1.0272,  0.2936, -1.5681],\n",
       "        [ 0.4904,  1.0272,  0.2936, -1.5681, -1.2356,  0.1891],\n",
       "        [-0.8354,  0.9031, -0.8354,  0.9031, -0.8354,  0.9031],\n",
       "        [-0.8354,  0.9031, -0.8354,  0.9031, -1.2356,  0.1891],\n",
       "        [-0.8354,  0.9031, -1.2356,  0.1891,  0.4904,  1.0272],\n",
       "        [-1.2356,  0.1891,  0.4904,  1.0272, -1.2356,  0.1891],\n",
       "        [-0.8354,  0.9031, -0.8354,  0.9031, -0.8354,  0.9031],\n",
       "        [-0.8354,  0.9031, -0.8354,  0.9031,  0.2936, -1.5681],\n",
       "        [-0.8354,  0.9031,  0.2936, -1.5681, -0.0717, -0.8356],\n",
       "        [ 0.2936, -1.5681, -0.0717, -0.8356, -1.2356,  0.1891],\n",
       "        [-0.0717, -0.8356, -1.2356,  0.1891, -0.6765,  1.5545],\n",
       "        [-1.2356,  0.1891, -0.6765,  1.5545, -0.3916,  0.4943],\n",
       "        [-0.6765,  1.5545, -0.3916,  0.4943, -1.1093,  0.8735],\n",
       "        [-0.3916,  0.4943, -1.1093,  0.8735, -1.1093,  0.8735],\n",
       "        [-1.1093,  0.8735, -1.1093,  0.8735, -1.2356,  0.1891],\n",
       "        [-0.8354,  0.9031, -0.8354,  0.9031, -0.8354,  0.9031],\n",
       "        [-0.8354,  0.9031, -0.8354,  0.9031, -0.0717, -0.8356],\n",
       "        [-0.8354,  0.9031, -0.0717, -0.8356,  0.6752,  0.7126],\n",
       "        [-0.0717, -0.8356,  0.6752,  0.7126,  0.4712, -1.2940],\n",
       "        [ 0.6752,  0.7126,  0.4712, -1.2940, -1.6792,  1.0800],\n",
       "        [ 0.4712, -1.2940, -1.6792,  1.0800,  0.2936, -1.5681],\n",
       "        [-1.6792,  1.0800,  0.2936, -1.5681, -1.2356,  0.1891]])"
      ]
     },
     "execution_count": 244,
     "metadata": {},
     "output_type": "execute_result"
    }
   ],
   "source": [
    "emb.view(32,6)"
   ]
  },
  {
   "cell_type": "code",
   "execution_count": 245,
   "metadata": {},
   "outputs": [],
   "source": [
    "W1 = torch.randn((6,100))\n",
    "b1 = torch.randn(100)"
   ]
  },
  {
   "cell_type": "code",
   "execution_count": 246,
   "metadata": {},
   "outputs": [],
   "source": [
    "h = torch.tanh(emb.view(-1, 6) @ W1 + b1)"
   ]
  },
  {
   "cell_type": "code",
   "execution_count": 247,
   "metadata": {},
   "outputs": [
    {
     "data": {
      "text/plain": [
       "torch.Size([32, 100])"
      ]
     },
     "execution_count": 247,
     "metadata": {},
     "output_type": "execute_result"
    }
   ],
   "source": [
    "h.shape"
   ]
  },
  {
   "cell_type": "code",
   "execution_count": 248,
   "metadata": {},
   "outputs": [],
   "source": [
    "W2 = torch.randn((100,27))\n",
    "b2 = torch.randn(27)"
   ]
  },
  {
   "cell_type": "code",
   "execution_count": 249,
   "metadata": {},
   "outputs": [],
   "source": [
    "logits = h @ W2 + b2"
   ]
  },
  {
   "cell_type": "code",
   "execution_count": 250,
   "metadata": {},
   "outputs": [
    {
     "data": {
      "text/plain": [
       "torch.Size([32, 27])"
      ]
     },
     "execution_count": 250,
     "metadata": {},
     "output_type": "execute_result"
    }
   ],
   "source": [
    "logits.shape"
   ]
  },
  {
   "cell_type": "code",
   "execution_count": 251,
   "metadata": {},
   "outputs": [],
   "source": [
    "counts = logits.exp()"
   ]
  },
  {
   "cell_type": "code",
   "execution_count": 252,
   "metadata": {},
   "outputs": [],
   "source": [
    "prob = counts / counts.sum(1, keepdims = True)"
   ]
  },
  {
   "cell_type": "code",
   "execution_count": 253,
   "metadata": {},
   "outputs": [
    {
     "data": {
      "text/plain": [
       "torch.Size([32, 27])"
      ]
     },
     "execution_count": 253,
     "metadata": {},
     "output_type": "execute_result"
    }
   ],
   "source": [
    "prob.shape"
   ]
  },
  {
   "cell_type": "code",
   "execution_count": 254,
   "metadata": {},
   "outputs": [
    {
     "data": {
      "text/plain": [
       "tensor(16.2153)"
      ]
     },
     "execution_count": 254,
     "metadata": {},
     "output_type": "execute_result"
    }
   ],
   "source": [
    "loss = -prob[torch.arange(32),Y].log().mean()\n",
    "loss"
   ]
  },
  {
   "cell_type": "markdown",
   "metadata": {},
   "source": [
    "## Making the NN loss more respectable\n",
    "\n",
    "There is a function to calculate the cross entropy so no need to do it ourselves"
   ]
  },
  {
   "cell_type": "code",
   "execution_count": 255,
   "metadata": {},
   "outputs": [
    {
     "data": {
      "text/plain": [
       "tensor(16.2153)"
      ]
     },
     "execution_count": 255,
     "metadata": {},
     "output_type": "execute_result"
    }
   ],
   "source": [
    "F.cross_entropy(logits, Y)"
   ]
  },
  {
   "cell_type": "code",
   "execution_count": 256,
   "metadata": {},
   "outputs": [],
   "source": [
    "parameters = [C, W1,b1, W2,b2]"
   ]
  },
  {
   "cell_type": "code",
   "execution_count": 257,
   "metadata": {},
   "outputs": [],
   "source": [
    "for p in parameters:\n",
    "    p.requires_grad = True"
   ]
  },
  {
   "cell_type": "code",
   "execution_count": 258,
   "metadata": {},
   "outputs": [
    {
     "name": "stdout",
     "output_type": "stream",
     "text": [
      "16.215288162231445\n",
      "13.700180053710938\n",
      "11.800699234008789\n",
      "10.205259323120117\n",
      "8.542738914489746\n",
      "7.5017266273498535\n",
      "6.704432964324951\n",
      "6.059825420379639\n",
      "5.439170837402344\n",
      "4.910754203796387\n"
     ]
    }
   ],
   "source": [
    "for i in range(10):\n",
    "\n",
    "  # forward pass\n",
    "  emb = C[X] # (32, 3, 10)\n",
    "  h = torch.tanh(emb.view(-1, 6) @ W1 + b1) # (32, 200)\n",
    "  logits = h @ W2 + b2 # (32, 27)\n",
    "  loss = F.cross_entropy(logits, Y)\n",
    "  print(loss.item())\n",
    "\n",
    "  # backward pass\n",
    "  for p in parameters:\n",
    "    p.grad = None\n",
    "  loss.backward()\n",
    "\n",
    "  # update\n",
    "  for p in parameters:\n",
    "    p.data += - 0.1 * p.grad"
   ]
  },
  {
   "cell_type": "markdown",
   "metadata": {},
   "source": [
    "# Until here now this is the basic NN one can make, "
   ]
  },
  {
   "cell_type": "code",
   "execution_count": 259,
   "metadata": {},
   "outputs": [
    {
     "data": {
      "text/plain": [
       "tensor([ 6, 23, 23, 29, 10, 30, 19, 12, 24,  3, 21,  0,  0,  9,  7, 24,  9, 24,\n",
       "         3,  6, 17, 29, 20,  6,  7, 31, 31,  9, 30,  7, 29, 18])"
      ]
     },
     "execution_count": 259,
     "metadata": {},
     "output_type": "execute_result"
    }
   ],
   "source": [
    "torch.randint(0, X.shape[0], (32,))"
   ]
  },
  {
   "cell_type": "code",
   "execution_count": 260,
   "metadata": {},
   "outputs": [
    {
     "name": "stdout",
     "output_type": "stream",
     "text": [
      "5.357973575592041\n",
      "3.978724241256714\n",
      "4.271456241607666\n",
      "3.9860501289367676\n",
      "4.220369338989258\n",
      "4.290560245513916\n",
      "2.9173519611358643\n",
      "3.515964984893799\n",
      "4.165951251983643\n",
      "4.441980838775635\n",
      "4.0147247314453125\n",
      "5.567392349243164\n",
      "3.160198926925659\n",
      "5.121642589569092\n",
      "4.4479899406433105\n",
      "5.1097612380981445\n",
      "3.5722954273223877\n",
      "5.719076156616211\n",
      "5.3708930015563965\n",
      "3.6626055240631104\n",
      "5.095433712005615\n",
      "4.8526716232299805\n",
      "4.049042701721191\n",
      "3.504216194152832\n",
      "5.268301010131836\n",
      "4.003218173980713\n",
      "6.381800174713135\n",
      "5.019685745239258\n",
      "3.783850908279419\n",
      "4.156115531921387\n",
      "4.916520118713379\n",
      "4.970744609832764\n",
      "4.070123195648193\n",
      "4.506397247314453\n",
      "5.311676025390625\n",
      "3.4245574474334717\n",
      "3.1322553157806396\n",
      "5.592556953430176\n",
      "4.152181148529053\n",
      "3.3318848609924316\n",
      "4.758646488189697\n",
      "4.385451793670654\n",
      "5.585689067840576\n",
      "5.3094916343688965\n",
      "4.215263366699219\n",
      "4.8872504234313965\n",
      "6.542144298553467\n",
      "4.744100093841553\n",
      "3.2295100688934326\n",
      "3.2421140670776367\n",
      "4.324875354766846\n",
      "4.9579386711120605\n",
      "4.808131694793701\n",
      "4.949362754821777\n",
      "2.8484060764312744\n",
      "4.8147969245910645\n",
      "3.6783406734466553\n",
      "5.2609758377075195\n",
      "4.00040864944458\n",
      "3.6566483974456787\n",
      "4.444278240203857\n",
      "3.997251033782959\n",
      "4.067714691162109\n",
      "3.7726171016693115\n",
      "7.0519537925720215\n",
      "3.8995440006256104\n",
      "3.686980724334717\n",
      "4.074617862701416\n",
      "2.347336769104004\n",
      "6.264069557189941\n",
      "4.993859767913818\n",
      "4.15354061126709\n",
      "4.510749816894531\n",
      "4.087303161621094\n",
      "2.7906441688537598\n",
      "5.843181610107422\n",
      "3.7419981956481934\n",
      "4.174508094787598\n",
      "5.280066967010498\n",
      "4.954539775848389\n",
      "2.891418695449829\n",
      "2.9563655853271484\n",
      "4.354992389678955\n",
      "4.335577964782715\n",
      "5.32203483581543\n",
      "6.532256603240967\n",
      "4.788694858551025\n",
      "4.761916637420654\n",
      "5.70454740524292\n",
      "5.381702899932861\n",
      "4.815281391143799\n",
      "4.974303245544434\n",
      "4.749003887176514\n",
      "5.402210712432861\n",
      "4.29027795791626\n",
      "4.254724979400635\n",
      "4.11880350112915\n",
      "4.939711570739746\n",
      "4.488285541534424\n",
      "4.995855808258057\n"
     ]
    }
   ],
   "source": [
    "for i in range(100):\n",
    "\n",
    "  # minibatch\n",
    "  xi = torch.randint(0, X.shape[0], (32,))\n",
    "\n",
    "  # forward pass\n",
    "  emb = C[X[xi]] # (32, 3, 10)\n",
    "  h = torch.tanh(emb.view(-1, 6) @ W1 + b1) # (32, 200)\n",
    "  logits = h @ W2 + b2 # (32, 27)\n",
    "  loss = F.cross_entropy(logits, Y[xi])\n",
    "\n",
    "  # backward pass\n",
    "  for p in parameters:\n",
    "    p.grad = None\n",
    "  loss.backward()\n",
    "\n",
    "  # update\n",
    "  for p in parameters:\n",
    "    p.data += - 0.0001 * p.grad\n",
    "\n",
    "  print(loss.item())\n"
   ]
  },
  {
   "cell_type": "markdown",
   "metadata": {},
   "source": [
    "At the moment were't fitting only 32 examples with 3000 parameters or so so it's overfitting."
   ]
  },
  {
   "cell_type": "code",
   "execution_count": 261,
   "metadata": {},
   "outputs": [],
   "source": [
    "# build the dataset\n",
    "\n",
    "block_size = 3 # context length: how many characters do we take to predict the next one?\n",
    "X, Y = [], []\n",
    "for w in words:\n",
    "\n",
    "  #print(w)\n",
    "  context = [0] * block_size\n",
    "  for ch in w + '.':\n",
    "    ix = stoi[ch]\n",
    "    X.append(context)\n",
    "    Y.append(ix)\n",
    "    #print(''.join(itos[i] for i in context), '--->', itos[ix])\n",
    "    context = context[1:] + [ix] # crop and append\n",
    "\n",
    "X = torch.tensor(X)\n",
    "Y = torch.tensor(Y)"
   ]
  },
  {
   "cell_type": "markdown",
   "metadata": {},
   "source": [
    "## Finding a good learning rate\n"
   ]
  },
  {
   "cell_type": "code",
   "execution_count": 262,
   "metadata": {},
   "outputs": [],
   "source": [
    "lre = torch.linspace(-3, 0, 1000)\n",
    "lrs = 10**lre"
   ]
  },
  {
   "cell_type": "markdown",
   "metadata": {},
   "source": []
  },
  {
   "cell_type": "markdown",
   "metadata": {},
   "source": [
    "Making everything easyer to reset"
   ]
  },
  {
   "cell_type": "code",
   "execution_count": 276,
   "metadata": {},
   "outputs": [],
   "source": [
    "g = torch.Generator().manual_seed(2147483647) # for reproducibility\n",
    "C = torch.randn((27, 2), generator=g)\n",
    "W1 = torch.randn((6, 100), generator=g)\n",
    "b1 = torch.randn(100, generator=g)\n",
    "W2 = torch.randn((100, 27), generator=g)\n",
    "b2 = torch.randn(27, generator=g)\n",
    "parameters = [C, W1, b1, W2, b2]"
   ]
  },
  {
   "cell_type": "code",
   "execution_count": 278,
   "metadata": {},
   "outputs": [],
   "source": [
    "for p in parameters:\n",
    "    p.requires_grad = True"
   ]
  },
  {
   "cell_type": "code",
   "execution_count": 292,
   "metadata": {},
   "outputs": [
    {
     "name": "stdout",
     "output_type": "stream",
     "text": [
      "2.434281587600708\n"
     ]
    }
   ],
   "source": [
    "lri = []\n",
    "lossi = []\n",
    "\n",
    "\n",
    "for i in range(10000):\n",
    "\n",
    "  # minibatch\n",
    "  xi = torch.randint(0, X.shape[0], (32,))\n",
    "\n",
    "  # forward pass\n",
    "  emb = C[X[xi]] # (32, 3, 10)\n",
    "  h = torch.tanh(emb.view(-1, 6) @ W1 + b1) # (32, 200)\n",
    "  logits = h @ W2 + b2 # (32, 27)\n",
    "  loss = F.cross_entropy(logits, Y[xi])\n",
    "\n",
    "  # backward pass\n",
    "  for p in parameters:\n",
    "    p.grad = None\n",
    "  loss.backward()\n",
    "\n",
    "  # update\n",
    "  #lr = lrs[i]\n",
    "  lr = 0.01\n",
    "  for p in parameters:\n",
    "    p.data += - lr * p.grad\n",
    "\n",
    "  #track stats\n",
    "  #lri.append(lr)\n",
    "  #lossi.append(loss.item())\n",
    "\n",
    "print(loss.item())\n"
   ]
  },
  {
   "cell_type": "code",
   "execution_count": 293,
   "metadata": {},
   "outputs": [
    {
     "data": {
      "text/plain": [
       "tensor(2.3312, grad_fn=<NllLossBackward0>)"
      ]
     },
     "execution_count": 293,
     "metadata": {},
     "output_type": "execute_result"
    }
   ],
   "source": [
    "emb = C[X]\n",
    "h = torch.tanh(emb.view(-1, 6) @ W1 + b1)\n",
    "logits = h @ W2 + b2\n",
    "loss = F.cross_entropy(logits, Y)\n",
    "loss"
   ]
  },
  {
   "cell_type": "markdown",
   "metadata": {},
   "source": [
    "The result we're getting in the end is $2.3312$"
   ]
  },
  {
   "cell_type": "code",
   "execution_count": 268,
   "metadata": {},
   "outputs": [
    {
     "data": {
      "text/plain": [
       "[<matplotlib.lines.Line2D at 0x1a4641fcd10>]"
      ]
     },
     "execution_count": 268,
     "metadata": {},
     "output_type": "execute_result"
    },
    {
     "data": {
      "image/png": "[encoded data removed]",
      "text/plain": [
       "<Figure size 640x480 with 1 Axes>"
      ]
     },
     "metadata": {},
     "output_type": "display_data"
    }
   ],
   "source": [
    "plt.plot(lre,lossi)"
   ]
  },
  {
   "cell_type": "markdown",
   "metadata": {},
   "source": [
    "## Doing validation and testing"
   ]
  },
  {
   "cell_type": "markdown",
   "metadata": {},
   "source": [
    "One might split into \n",
    "training split, validation split, test split\n",
    "80%, 10%, 10%\n",
    "\n",
    "You're only allowed to use the test split occaisonally not too often"
   ]
  },
  {
   "cell_type": "code",
   "execution_count": 294,
   "metadata": {},
   "outputs": [
    {
     "name": "stdout",
     "output_type": "stream",
     "text": [
      "torch.Size([182625, 3]) torch.Size([182625])\n",
      "torch.Size([22655, 3]) torch.Size([22655])\n",
      "torch.Size([22866, 3]) torch.Size([22866])\n"
     ]
    }
   ],
   "source": [
    "# build the dataset\n",
    "block_size = 3 # context length: how many characters do we take to predict the next one?\n",
    "\n",
    "def build_dataset(words):\n",
    "  X, Y = [], []\n",
    "  for w in words:\n",
    "\n",
    "    #print(w)\n",
    "    context = [0] * block_size\n",
    "    for ch in w + '.':\n",
    "      ix = stoi[ch]\n",
    "      X.append(context)\n",
    "      Y.append(ix)\n",
    "      #print(''.join(itos[i] for i in context), '--->', itos[ix])\n",
    "      context = context[1:] + [ix] # crop and append\n",
    "\n",
    "  X = torch.tensor(X)\n",
    "  Y = torch.tensor(Y)\n",
    "  print(X.shape, Y.shape)\n",
    "  return X, Y\n",
    "\n",
    "import random\n",
    "random.seed(42)\n",
    "random.shuffle(words)\n",
    "n1 = int(0.8*len(words))\n",
    "n2 = int(0.9*len(words))\n",
    "\n",
    "Xtr, Ytr = build_dataset(words[:n1])\n",
    "Xdev, Ydev = build_dataset(words[n1:n2])\n",
    "Xte, Yte = build_dataset(words[n2:])\n"
   ]
  },
  {
   "cell_type": "code",
   "execution_count": 295,
   "metadata": {},
   "outputs": [
    {
     "data": {
      "text/plain": [
       "32033"
      ]
     },
     "execution_count": 295,
     "metadata": {},
     "output_type": "execute_result"
    }
   ],
   "source": [
    "len(words)"
   ]
  },
  {
   "cell_type": "code",
   "execution_count": 296,
   "metadata": {},
   "outputs": [
    {
     "data": {
      "text/plain": [
       "25626"
      ]
     },
     "execution_count": 296,
     "metadata": {},
     "output_type": "execute_result"
    }
   ],
   "source": [
    "n1"
   ]
  },
  {
   "cell_type": "code",
   "execution_count": 297,
   "metadata": {},
   "outputs": [
    {
     "data": {
      "text/plain": [
       "28829"
      ]
     },
     "execution_count": 297,
     "metadata": {},
     "output_type": "execute_result"
    }
   ],
   "source": [
    "n2"
   ]
  },
  {
   "cell_type": "markdown",
   "metadata": {},
   "source": [
    "Resitting everything"
   ]
  },
  {
   "cell_type": "code",
   "execution_count": 314,
   "metadata": {},
   "outputs": [],
   "source": [
    "g = torch.Generator().manual_seed(2147483647) # for reproducibility\n",
    "C = torch.randn((27, 2), generator=g)\n",
    "W1 = torch.randn((6, 200), generator=g)\n",
    "b1 = torch.randn(200, generator=g)\n",
    "W2 = torch.randn((200, 27), generator=g)\n",
    "b2 = torch.randn(27, generator=g)\n",
    "parameters = [C, W1, b1, W2, b2]"
   ]
  },
  {
   "cell_type": "code",
   "execution_count": 315,
   "metadata": {},
   "outputs": [],
   "source": [
    "for p in parameters:\n",
    "    p.requires_grad = True"
   ]
  },
  {
   "cell_type": "markdown",
   "metadata": {},
   "source": [
    "Now using different sets"
   ]
  },
  {
   "cell_type": "code",
   "execution_count": 330,
   "metadata": {},
   "outputs": [
    {
     "name": "stdout",
     "output_type": "stream",
     "text": [
      "2.3273696899414062\n"
     ]
    }
   ],
   "source": [
    "lri = []\n",
    "lossi = []\n",
    "stepi = []\n",
    "\n",
    "\n",
    "for i in range(10000):\n",
    "\n",
    "  # minibatch\n",
    "  xi = torch.randint(0, Xtr.shape[0], (32,))\n",
    "\n",
    "  # forward pass\n",
    "  emb = C[Xtr[xi]] # (32, 3, 10)\n",
    "  h = torch.tanh(emb.view(-1, 6) @ W1 + b1) # (32, 200)\n",
    "  logits = h @ W2 + b2 # (32, 27)\n",
    "  loss = F.cross_entropy(logits, Ytr[xi])\n",
    "\n",
    "  # backward pass\n",
    "  for p in parameters:\n",
    "    p.grad = None\n",
    "  loss.backward()\n",
    "\n",
    "  # update\n",
    "  #lr = lrs[i]\n",
    "  lr = 0.01\n",
    "  for p in parameters:\n",
    "    p.data += - lr * p.grad\n",
    "\n",
    "  #track stats\n",
    "  stepi.append(i)\n",
    "  lossi.append(loss.item())\n",
    "\n",
    "print(loss.item())\n"
   ]
  },
  {
   "cell_type": "code",
   "execution_count": 331,
   "metadata": {},
   "outputs": [
    {
     "data": {
      "text/plain": [
       "[<matplotlib.lines.Line2D at 0x1a4661564b0>]"
      ]
     },
     "execution_count": 331,
     "metadata": {},
     "output_type": "execute_result"
    },
    {
     "data": {
      "image/png": "[encoded data removed]",
      "text/plain": [
       "<Figure size 640x480 with 1 Axes>"
      ]
     },
     "metadata": {},
     "output_type": "display_data"
    }
   ],
   "source": [
    "plt.plot(stepi,lossi)"
   ]
  },
  {
   "cell_type": "code",
   "execution_count": 332,
   "metadata": {},
   "outputs": [
    {
     "data": {
      "text/plain": [
       "tensor(2.2786, grad_fn=<NllLossBackward0>)"
      ]
     },
     "execution_count": 332,
     "metadata": {},
     "output_type": "execute_result"
    }
   ],
   "source": [
    "emb = C[Xtr]\n",
    "h = torch.tanh(emb.view(-1, 6) @ W1 + b1)\n",
    "logits = h @ W2 + b2\n",
    "loss = F.cross_entropy(logits, Ytr)\n",
    "loss"
   ]
  },
  {
   "cell_type": "markdown",
   "metadata": {},
   "source": [
    "Training and test error are very similar so we are under fitting so make model larger."
   ]
  },
  {
   "cell_type": "code",
   "execution_count": 333,
   "metadata": {},
   "outputs": [
    {
     "data": {
      "text/plain": [
       "tensor(2.2809, grad_fn=<NllLossBackward0>)"
      ]
     },
     "execution_count": 333,
     "metadata": {},
     "output_type": "execute_result"
    }
   ],
   "source": [
    "emb = C[Xdev]\n",
    "h = torch.tanh(emb.view(-1, 6) @ W1 + b1)\n",
    "logits = h @ W2 + b2\n",
    "loss = F.cross_entropy(logits, Ydev)\n",
    "loss"
   ]
  },
  {
   "cell_type": "code",
   "execution_count": 334,
   "metadata": {},
   "outputs": [
    {
     "data": {
      "image/png": "[encoded data removed]",
      "text/plain": [
       "<Figure size 800x800 with 1 Axes>"
      ]
     },
     "metadata": {},
     "output_type": "display_data"
    }
   ],
   "source": [
    "# visualize dimensions 0 and 1 of the embedding matrix C for all characters\n",
    "plt.figure(figsize=(8,8))\n",
    "plt.scatter(C[:,0].data, C[:,1].data, s=200)\n",
    "for i in range(C.shape[0]):\n",
    "    plt.text(C[i,0].item(), C[i,1].item(), itos[i], ha=\"center\", va=\"center\", color='white')\n",
    "plt.grid('minor')"
   ]
  },
  {
   "cell_type": "markdown",
   "metadata": {},
   "source": [
    "## Larger embedding space"
   ]
  },
  {
   "cell_type": "code",
   "execution_count": 338,
   "metadata": {},
   "outputs": [],
   "source": [
    "g = torch.Generator().manual_seed(2147483647) # for reproducibility\n",
    "C = torch.randn((27, 10), generator=g)\n",
    "W1 = torch.randn((30, 150), generator=g)\n",
    "b1 = torch.randn(150, generator=g)\n",
    "W2 = torch.randn((150, 27), generator=g)\n",
    "b2 = torch.randn(27, generator=g)\n",
    "parameters = [C, W1, b1, W2, b2]\n",
    "for p in parameters:\n",
    "    p.requires_grad = True"
   ]
  },
  {
   "cell_type": "code",
   "execution_count": 340,
   "metadata": {},
   "outputs": [],
   "source": [
    "lri = []\n",
    "lossi = []\n",
    "stepi = []\n"
   ]
  },
  {
   "cell_type": "code",
   "execution_count": 350,
   "metadata": {},
   "outputs": [
    {
     "name": "stdout",
     "output_type": "stream",
     "text": [
      "1.947399616241455\n"
     ]
    }
   ],
   "source": [
    "\n",
    "\n",
    "for i in range(30000):\n",
    "\n",
    "  # minibatch\n",
    "  xi = torch.randint(0, Xtr.shape[0], (32,))\n",
    "\n",
    "  # forward pass\n",
    "  emb = C[Xtr[xi]] # (32, 3, 10)\n",
    "  h = torch.tanh(emb.view(-1, 30) @ W1 + b1) # (32, 200)\n",
    "  logits = h @ W2 + b2 # (32, 27)\n",
    "  loss = F.cross_entropy(logits, Ytr[xi])\n",
    "\n",
    "  # backward pass\n",
    "  for p in parameters:\n",
    "    p.grad = None\n",
    "  loss.backward()\n",
    "\n",
    "  # update\n",
    "  #lr = lrs[i]\n",
    "  lr = 0.01\n",
    "  for p in parameters:\n",
    "    p.data += - lr * p.grad\n",
    "\n",
    "  #track stats\n",
    "  stepi.append(i)\n",
    "  lossi.append(loss.log10().item())\n",
    "\n",
    "print(loss.item())\n"
   ]
  },
  {
   "cell_type": "code",
   "execution_count": 351,
   "metadata": {},
   "outputs": [
    {
     "data": {
      "text/plain": [
       "[<matplotlib.lines.Line2D at 0x1a464d25a60>]"
      ]
     },
     "execution_count": 351,
     "metadata": {},
     "output_type": "execute_result"
    },
    {
     "data": {
      "image/png": "[encoded data removed]",
      "text/plain": [
       "<Figure size 640x480 with 1 Axes>"
      ]
     },
     "metadata": {},
     "output_type": "display_data"
    }
   ],
   "source": [
    "plt.plot(stepi, lossi)"
   ]
  },
  {
   "cell_type": "code",
   "execution_count": 352,
   "metadata": {},
   "outputs": [
    {
     "data": {
      "text/plain": [
       "tensor(2.2230, grad_fn=<NllLossBackward0>)"
      ]
     },
     "execution_count": 352,
     "metadata": {},
     "output_type": "execute_result"
    }
   ],
   "source": [
    "emb = C[Xtr]\n",
    "h = torch.tanh(emb.view(-1, 30) @ W1 + b1)\n",
    "logits = h @ W2 + b2\n",
    "loss = F.cross_entropy(logits, Ytr)\n",
    "loss"
   ]
  },
  {
   "cell_type": "code",
   "execution_count": 353,
   "metadata": {},
   "outputs": [
    {
     "data": {
      "text/plain": [
       "tensor(2.2371, grad_fn=<NllLossBackward0>)"
      ]
     },
     "execution_count": 353,
     "metadata": {},
     "output_type": "execute_result"
    }
   ],
   "source": [
    "emb = C[Xdev]\n",
    "h = torch.tanh(emb.view(-1, 30) @ W1 + b1)\n",
    "logits = h @ W2 + b2\n",
    "loss = F.cross_entropy(logits, Ydev)\n",
    "loss"
   ]
  },
  {
   "cell_type": "code",
   "execution_count": 354,
   "metadata": {},
   "outputs": [
    {
     "name": "stdout",
     "output_type": "stream",
     "text": [
      "mora.\n",
      "mayah.\n",
      "seevend.\n",
      "rylle.\n",
      "emmaslendrlee.\n",
      "adered.\n",
      "elin.\n",
      "shy.\n",
      "jen.\n",
      "edellean.\n",
      "nar.\n",
      "kayzior.\n",
      "kalin.\n",
      "shuthrishimiel.\n",
      "kinde.\n",
      "jelipenterian.\n",
      "bewander.\n",
      "yayleyehs.\n",
      "kay.\n",
      "myanny.\n"
     ]
    }
   ],
   "source": [
    "\n",
    "\n",
    "# sample from the model\n",
    "g = torch.Generator().manual_seed(2147483647 + 10)\n",
    "\n",
    "for _ in range(20):\n",
    "\n",
    "    out = []\n",
    "    context = [0] * block_size # initialize with all ...\n",
    "    while True:\n",
    "      emb = C[torch.tensor([context])] # (1,block_size,d)\n",
    "      h = torch.tanh(emb.view(1, -1) @ W1 + b1)\n",
    "      logits = h @ W2 + b2\n",
    "      probs = F.softmax(logits, dim=1)\n",
    "      ix = torch.multinomial(probs, num_samples=1, generator=g).item()\n",
    "      context = context[1:] + [ix]\n",
    "      out.append(ix)\n",
    "      if ix == 0:\n",
    "        break\n",
    "\n",
    "    print(''.join(itos[i] for i in out))"
   ]
  }
 ],
 "metadata": {
  "kernelspec": {
   "display_name": "Python 3",
   "language": "python",
   "name": "python3"
  },
  "language_info": {
   "codemirror_mode": {
    "name": "ipython",
    "version": 3
   },
   "file_extension": ".py",
   "mimetype": "text/x-python",
   "name": "python",
   "nbconvert_exporter": "python",
   "pygments_lexer": "ipython3",
   "version": "3.12.4"
  }
 },
 "nbformat": 4,
 "nbformat_minor": 2
}
